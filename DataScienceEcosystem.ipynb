{
 "cells": [
  {
   "cell_type": "markdown",
   "id": "b9a99b31-8cc5-452f-974d-f653853d57a2",
   "metadata": {},
   "source": [
    "# Data Science Tools and Ecosystem"
   ]
  },
  {
   "cell_type": "markdown",
   "id": "dac2f50f-98cb-4b13-9d24-784fe1bc82d3",
   "metadata": {},
   "source": [
    "### Some of the popular languages that Data Scientists use are:"
   ]
  },
  {
   "cell_type": "markdown",
   "id": "6181055d-f184-4e16-8ecb-abb078c976ef",
   "metadata": {},
   "source": [
    "### In this notebook, Data Science Tools and Ecosystem are summarized."
   ]
  },
  {
   "cell_type": "markdown",
   "id": "be7dfbff-8823-4f08-afbc-d43a925636f5",
   "metadata": {},
   "source": [
    "**Objectives:**"
   ]
  },
  {
   "cell_type": "markdown",
   "id": "c32ececd-3472-49ab-954e-240ccaf3d8a1",
   "metadata": {},
   "source": [
    "- Python\n",
    "- R\n",
    "- SQL\n",
    "- JAVA\n",
    "- Scala\n",
    "- Julia\n",
    "- JavaScript\n",
    "- C/C++\n",
    "- MATLAB\n",
    "- SAS\n",
    "\n"
   ]
  },
  {
   "cell_type": "markdown",
   "id": "518e66fc-0817-45fd-9059-748e15d81758",
   "metadata": {},
   "source": [
    "####   1.Python\n",
    "####   2.R\n",
    "####   3.SQL\n",
    "####   4.JAVA"
   ]
  },
  {
   "cell_type": "markdown",
   "id": "19660f6b-7b9d-40c3-ac59-d01789c66240",
   "metadata": {},
   "source": [
    "|Data Science Tools|\n",
    "|------------------|\n",
    "|Apache Hadoop|\n",
    "|Apache Spark|\n",
    "|TensorFlow|"
   ]
  },
  {
   "cell_type": "markdown",
   "id": "deed4ed3-34c0-4c1e-82f2-cb5e5c108760",
   "metadata": {},
   "source": [
    "### Some of the commonly used libraries used by Data Scientists include:"
   ]
  },
  {
   "cell_type": "markdown",
   "id": "9a72e37a-98c6-4870-ba3f-ad9a1957d3ef",
   "metadata": {},
   "source": [
    "1. NumPy\n",
    "2. Matbotlib\n",
    "3. Seaborn\n",
    "4. Scikit-learn\n",
    "5. TensorFlow\n"
   ]
  },
  {
   "cell_type": "markdown",
   "id": "d3973a3a-3e81-4439-a903-67addaa8a1fc",
   "metadata": {},
   "source": [
    "### Below are a few examples of evaluating arithmetic expressions in Python"
   ]
  },
  {
   "cell_type": "markdown",
   "id": "5fe5f5a2-6d30-494e-9319-16049afd3eb9",
   "metadata": {},
   "source": [
    "### This a simple arithmetic expression to mutiply then add integers"
   ]
  },
  {
   "cell_type": "code",
   "execution_count": 1,
   "id": "5ef45a9e-7e9c-4b6f-b01e-6acc08b02ffd",
   "metadata": {
    "tags": []
   },
   "outputs": [
    {
     "data": {
      "text/plain": [
       "17"
      ]
     },
     "execution_count": 1,
     "metadata": {},
     "output_type": "execute_result"
    }
   ],
   "source": [
    "(3*4)+5"
   ]
  },
  {
   "cell_type": "markdown",
   "id": "a7b187ee-3350-47b8-9f41-30f2e15c372f",
   "metadata": {},
   "source": [
    "### This will convert 200 minutes to hours by diving by 60"
   ]
  },
  {
   "cell_type": "code",
   "execution_count": 2,
   "id": "a4ba7f09-dc59-4b64-ba88-d19ac653b02e",
   "metadata": {
    "tags": []
   },
   "outputs": [
    {
     "data": {
      "text/plain": [
       "3.3333333333333335"
      ]
     },
     "execution_count": 2,
     "metadata": {},
     "output_type": "execute_result"
    }
   ],
   "source": [
    "200/60"
   ]
  },
  {
   "cell_type": "code",
   "execution_count": null,
   "id": "c5d44fd9-fa5d-49b0-b6b1-c21bd2c8abf8",
   "metadata": {},
   "outputs": [],
   "source": []
  },
  {
   "cell_type": "code",
   "execution_count": null,
   "id": "56e5fd5a-edad-4fe5-a4fd-4b598de74364",
   "metadata": {},
   "outputs": [],
   "source": []
  },
  {
   "cell_type": "markdown",
   "id": "b2ca8852-d312-4ad0-900f-355ca1692598",
   "metadata": {},
   "source": [
    "## Author"
   ]
  },
  {
   "cell_type": "markdown",
   "id": "57335e02-3e0e-417a-97cf-388e9150bf8b",
   "metadata": {},
   "source": [
    "Kevin Xu"
   ]
  },
  {
   "cell_type": "code",
   "execution_count": null,
   "id": "b4af301b-379f-4a15-a44f-277f47814d00",
   "metadata": {},
   "outputs": [],
   "source": []
  }
 ],
 "metadata": {
  "kernelspec": {
   "display_name": "Python",
   "language": "python",
   "name": "conda-env-python-py"
  },
  "language_info": {
   "codemirror_mode": {
    "name": "ipython",
    "version": 3
   },
   "file_extension": ".py",
   "mimetype": "text/x-python",
   "name": "python",
   "nbconvert_exporter": "python",
   "pygments_lexer": "ipython3",
   "version": "3.7.12"
  }
 },
 "nbformat": 4,
 "nbformat_minor": 5
}
